{
 "cells": [
  {
   "cell_type": "markdown",
   "metadata": {
    "run_control": {
     "marked": true
    }
   },
   "source": [
    "# Pru Wealth Data Test\n",
    "\n",
    "Below we will explore a mock database of customers, policies and funds that are similar to the Pru Wealth data. The first section of this notebook will test your SQL skills, the second section will test your Python skills and visualisation skills.\n",
    "\n",
    "The database file is called Prudential_Data.db\n",
    "\n",
    "The three tables included in this database are:\n",
    "* Customer_Table\n",
    "* Policy_Table\n",
    "* Fund_Table\n",
    "\n",
    "You will need to have the following packages installed in your Python environment:\n",
    "* numpy\n",
    "* pandas\n",
    "* sqlite3\n",
    "\n",
    "For visualization use any package of your choice (e.g., matplotlib, seaborn, plotly).\n",
    "\n",
    "Please complete and return the test before the deadline by emailing your copy of this notebook to: Denholm.Hesse@Prudential.co.uk. If you do not know the answer to a question feel free to use Google and Stack Overflow. This is to give you the option to teach yourself a concept from the internet to address a question which you do not know the answer to, please refrain from skipping questions. The test is meant to be completed by you only.\n",
    "\n",
    "Good luck and have fun!"
   ]
  },
  {
   "cell_type": "code",
   "execution_count": 539,
   "metadata": {
    "run_control": {
     "marked": true
    }
   },
   "outputs": [
    {
     "name": "stdout",
     "output_type": "stream",
     "text": [
      "Libraries Loaded\n"
     ]
    }
   ],
   "source": [
    "import numpy as np\n",
    "import pandas as pd\n",
    "import sqlite3\n",
    "\n",
    "import seaborn as sns\n",
    "import matplotlib.pyplot as plt\n",
    "from mpl_toolkits.mplot3d import Axes3D\n",
    "from sklearn.cluster import KMeans\n",
    "from sklearn.preprocessing import StandardScaler\n",
    "\n",
    "print('Libraries Loaded')"
   ]
  },
  {
   "cell_type": "markdown",
   "metadata": {
    "run_control": {
     "marked": true
    }
   },
   "source": [
    "# SQL test\n",
    "\n",
    "IMPORANT: Please make sure all questions in this section are solved using SQL by only editing the content of the variable *sqlite_query*. Please do not edit the below cell:"
   ]
  },
  {
   "cell_type": "code",
   "execution_count": 7,
   "metadata": {
    "run_control": {
     "marked": true
    }
   },
   "outputs": [
    {
     "name": "stdout",
     "output_type": "stream",
     "text": [
      "Connection Established\n"
     ]
    }
   ],
   "source": [
    "# Establish DB connection\n",
    "conn = sqlite3.connect('Prudential_Data.db')\n",
    "\n",
    "print('Connection Established')"
   ]
  },
  {
   "cell_type": "markdown",
   "metadata": {},
   "source": [
    "Below is an example of how to query the SQLlite databse from this Jupyter notebook. Please note that SQLlite might have a slightly different syntax from the SQL you normally use. Please do not edit the below cell:"
   ]
  },
  {
   "cell_type": "code",
   "execution_count": 18,
   "metadata": {},
   "outputs": [
    {
     "data": {
      "text/html": [
       "<div>\n",
       "<style scoped>\n",
       "    .dataframe tbody tr th:only-of-type {\n",
       "        vertical-align: middle;\n",
       "    }\n",
       "\n",
       "    .dataframe tbody tr th {\n",
       "        vertical-align: top;\n",
       "    }\n",
       "\n",
       "    .dataframe thead th {\n",
       "        text-align: right;\n",
       "    }\n",
       "</style>\n",
       "<table border=\"1\" class=\"dataframe\">\n",
       "  <thead>\n",
       "    <tr style=\"text-align: right;\">\n",
       "      <th></th>\n",
       "      <th>COUNT(*)</th>\n",
       "    </tr>\n",
       "  </thead>\n",
       "  <tbody>\n",
       "    <tr>\n",
       "      <td>0</td>\n",
       "      <td>1635</td>\n",
       "    </tr>\n",
       "  </tbody>\n",
       "</table>\n",
       "</div>"
      ],
      "text/plain": [
       "   COUNT(*)\n",
       "0      1635"
      ]
     },
     "execution_count": 18,
     "metadata": {},
     "output_type": "execute_result"
    }
   ],
   "source": [
    "sqlite_query = \"\"\"\n",
    "SELECT COUNT(*) \n",
    "from policy_table \n",
    "\"\"\"\n",
    "\n",
    "pd.read_sql(sqlite_query, conn)\n",
    "\n"
   ]
  },
  {
   "cell_type": "markdown",
   "metadata": {
    "run_control": {
     "marked": true
    }
   },
   "source": [
    "The first table \"Customer_Table\" contains personal information about the customers. Please do not edit the below cell:"
   ]
  },
  {
   "cell_type": "code",
   "execution_count": 19,
   "metadata": {
    "run_control": {
     "marked": true
    }
   },
   "outputs": [
    {
     "data": {
      "text/html": [
       "<div>\n",
       "<style scoped>\n",
       "    .dataframe tbody tr th:only-of-type {\n",
       "        vertical-align: middle;\n",
       "    }\n",
       "\n",
       "    .dataframe tbody tr th {\n",
       "        vertical-align: top;\n",
       "    }\n",
       "\n",
       "    .dataframe thead th {\n",
       "        text-align: right;\n",
       "    }\n",
       "</style>\n",
       "<table border=\"1\" class=\"dataframe\">\n",
       "  <thead>\n",
       "    <tr style=\"text-align: right;\">\n",
       "      <th></th>\n",
       "      <th>index</th>\n",
       "      <th>Customer ID</th>\n",
       "      <th>Email</th>\n",
       "      <th>Gender</th>\n",
       "      <th>Age</th>\n",
       "      <th>Postcode</th>\n",
       "    </tr>\n",
       "  </thead>\n",
       "  <tbody>\n",
       "    <tr>\n",
       "      <td>0</td>\n",
       "      <td>0</td>\n",
       "      <td>CO183683</td>\n",
       "      <td>NLUPPITT14@PARALLELS.COM</td>\n",
       "      <td>Male</td>\n",
       "      <td>90</td>\n",
       "      <td>None</td>\n",
       "    </tr>\n",
       "    <tr>\n",
       "      <td>1</td>\n",
       "      <td>1</td>\n",
       "      <td>CO314757</td>\n",
       "      <td>None</td>\n",
       "      <td>Female</td>\n",
       "      <td>90</td>\n",
       "      <td>None</td>\n",
       "    </tr>\n",
       "    <tr>\n",
       "      <td>2</td>\n",
       "      <td>2</td>\n",
       "      <td>CO720602</td>\n",
       "      <td>None</td>\n",
       "      <td>Female</td>\n",
       "      <td>90</td>\n",
       "      <td>None</td>\n",
       "    </tr>\n",
       "    <tr>\n",
       "      <td>3</td>\n",
       "      <td>3</td>\n",
       "      <td>CO34804</td>\n",
       "      <td>None</td>\n",
       "      <td>Female</td>\n",
       "      <td>90</td>\n",
       "      <td>1495-701</td>\n",
       "    </tr>\n",
       "    <tr>\n",
       "      <td>4</td>\n",
       "      <td>4</td>\n",
       "      <td>CO474411</td>\n",
       "      <td>None</td>\n",
       "      <td>Male</td>\n",
       "      <td>90</td>\n",
       "      <td>301288</td>\n",
       "    </tr>\n",
       "  </tbody>\n",
       "</table>\n",
       "</div>"
      ],
      "text/plain": [
       "   index Customer ID                     Email  Gender  Age  Postcode\n",
       "0      0    CO183683  NLUPPITT14@PARALLELS.COM    Male   90      None\n",
       "1      1    CO314757                      None  Female   90      None\n",
       "2      2    CO720602                      None  Female   90      None\n",
       "3      3     CO34804                      None  Female   90  1495-701\n",
       "4      4    CO474411                      None    Male   90    301288"
      ]
     },
     "execution_count": 19,
     "metadata": {},
     "output_type": "execute_result"
    }
   ],
   "source": [
    "sqlite_query = \"\"\"\n",
    "SELECT * \n",
    "from Customer_Table \n",
    "limit 5\n",
    "\"\"\"\n",
    "\n",
    "pd.read_sql(sqlite_query, conn)"
   ]
  },
  {
   "cell_type": "markdown",
   "metadata": {},
   "source": [
    "The second table \"Policy_Table\" contains data relating to customer policies. The policy value is the current value of the policy. Please do not edit the below cell:"
   ]
  },
  {
   "cell_type": "code",
   "execution_count": 20,
   "metadata": {},
   "outputs": [
    {
     "data": {
      "text/html": [
       "<div>\n",
       "<style scoped>\n",
       "    .dataframe tbody tr th:only-of-type {\n",
       "        vertical-align: middle;\n",
       "    }\n",
       "\n",
       "    .dataframe tbody tr th {\n",
       "        vertical-align: top;\n",
       "    }\n",
       "\n",
       "    .dataframe thead th {\n",
       "        text-align: right;\n",
       "    }\n",
       "</style>\n",
       "<table border=\"1\" class=\"dataframe\">\n",
       "  <thead>\n",
       "    <tr style=\"text-align: right;\">\n",
       "      <th></th>\n",
       "      <th>index</th>\n",
       "      <th>Policy Number</th>\n",
       "      <th>Customer ID</th>\n",
       "      <th>Product Category</th>\n",
       "      <th>Product Name</th>\n",
       "      <th>Policy Value</th>\n",
       "      <th>Policy Start Date</th>\n",
       "    </tr>\n",
       "  </thead>\n",
       "  <tbody>\n",
       "    <tr>\n",
       "      <td>0</td>\n",
       "      <td>0</td>\n",
       "      <td>RET100072</td>\n",
       "      <td>CO276506</td>\n",
       "      <td>RETIREMENT</td>\n",
       "      <td>RETIREMENT ACCOUNT</td>\n",
       "      <td>270033.0</td>\n",
       "      <td>2016-01-02 00:00:00</td>\n",
       "    </tr>\n",
       "    <tr>\n",
       "      <td>1</td>\n",
       "      <td>1</td>\n",
       "      <td>RET100931</td>\n",
       "      <td>CO831289</td>\n",
       "      <td>RETIREMENT</td>\n",
       "      <td>RETIREMENT ACCOUNT</td>\n",
       "      <td>26394.0</td>\n",
       "      <td>2016-01-04 00:00:00</td>\n",
       "    </tr>\n",
       "    <tr>\n",
       "      <td>2</td>\n",
       "      <td>2</td>\n",
       "      <td>RET100682</td>\n",
       "      <td>CO784249</td>\n",
       "      <td>RETIREMENT</td>\n",
       "      <td>RETIREMENT ACCOUNT</td>\n",
       "      <td>773567.0</td>\n",
       "      <td>2016-01-04 00:00:00</td>\n",
       "    </tr>\n",
       "    <tr>\n",
       "      <td>3</td>\n",
       "      <td>3</td>\n",
       "      <td>RET100447</td>\n",
       "      <td>CO295533</td>\n",
       "      <td>RETIREMENT</td>\n",
       "      <td>RETIREMENT ACCOUNT</td>\n",
       "      <td>35512.0</td>\n",
       "      <td>2016-01-07 00:00:00</td>\n",
       "    </tr>\n",
       "    <tr>\n",
       "      <td>4</td>\n",
       "      <td>4</td>\n",
       "      <td>RET100390</td>\n",
       "      <td>CO901735</td>\n",
       "      <td>RETIREMENT</td>\n",
       "      <td>RETIREMENT ACCOUNT</td>\n",
       "      <td>767580.0</td>\n",
       "      <td>2016-01-08 00:00:00</td>\n",
       "    </tr>\n",
       "  </tbody>\n",
       "</table>\n",
       "</div>"
      ],
      "text/plain": [
       "   index Policy Number Customer ID Product Category        Product Name  \\\n",
       "0      0     RET100072    CO276506       RETIREMENT  RETIREMENT ACCOUNT   \n",
       "1      1     RET100931    CO831289       RETIREMENT  RETIREMENT ACCOUNT   \n",
       "2      2     RET100682    CO784249       RETIREMENT  RETIREMENT ACCOUNT   \n",
       "3      3     RET100447    CO295533       RETIREMENT  RETIREMENT ACCOUNT   \n",
       "4      4     RET100390    CO901735       RETIREMENT  RETIREMENT ACCOUNT   \n",
       "\n",
       "   Policy Value    Policy Start Date  \n",
       "0      270033.0  2016-01-02 00:00:00  \n",
       "1       26394.0  2016-01-04 00:00:00  \n",
       "2      773567.0  2016-01-04 00:00:00  \n",
       "3       35512.0  2016-01-07 00:00:00  \n",
       "4      767580.0  2016-01-08 00:00:00  "
      ]
     },
     "execution_count": 20,
     "metadata": {},
     "output_type": "execute_result"
    }
   ],
   "source": [
    "sqlite_query = \"\"\"\n",
    "SELECT * \n",
    "from Policy_Table \n",
    "limit 5\n",
    "\"\"\"\n",
    "\n",
    "pd.read_sql(sqlite_query, conn)"
   ]
  },
  {
   "cell_type": "markdown",
   "metadata": {},
   "source": [
    "The final table \"Fund_Table\" contains historic data on the Policy Value (Policy_Value_Snapshot). The Policy_Value_Snapshot represents the value of the policy and the Date column is the date at which that value was recorded. The value may have changed overtime due to changes in the fund price or quanity of units the policy was invested in. Please do not edit the below cell:"
   ]
  },
  {
   "cell_type": "code",
   "execution_count": 106,
   "metadata": {},
   "outputs": [
    {
     "data": {
      "text/html": [
       "<div>\n",
       "<style scoped>\n",
       "    .dataframe tbody tr th:only-of-type {\n",
       "        vertical-align: middle;\n",
       "    }\n",
       "\n",
       "    .dataframe tbody tr th {\n",
       "        vertical-align: top;\n",
       "    }\n",
       "\n",
       "    .dataframe thead th {\n",
       "        text-align: right;\n",
       "    }\n",
       "</style>\n",
       "<table border=\"1\" class=\"dataframe\">\n",
       "  <thead>\n",
       "    <tr style=\"text-align: right;\">\n",
       "      <th></th>\n",
       "      <th>index</th>\n",
       "      <th>Policy Number</th>\n",
       "      <th>Customer ID</th>\n",
       "      <th>Date</th>\n",
       "      <th>Product Category</th>\n",
       "      <th>Product Name</th>\n",
       "      <th>Policy_Value_Snapshot</th>\n",
       "    </tr>\n",
       "  </thead>\n",
       "  <tbody>\n",
       "    <tr>\n",
       "      <td>0</td>\n",
       "      <td>0</td>\n",
       "      <td>ANN1221</td>\n",
       "      <td>CO408564</td>\n",
       "      <td>2009-10-31 00:00:00</td>\n",
       "      <td>ANNUITY</td>\n",
       "      <td>STANDARD ANNUITY</td>\n",
       "      <td>NaN</td>\n",
       "    </tr>\n",
       "    <tr>\n",
       "      <td>1</td>\n",
       "      <td>1</td>\n",
       "      <td>ANN1221</td>\n",
       "      <td>CO408564</td>\n",
       "      <td>2009-11-30 00:00:00</td>\n",
       "      <td>ANNUITY</td>\n",
       "      <td>STANDARD ANNUITY</td>\n",
       "      <td>NaN</td>\n",
       "    </tr>\n",
       "    <tr>\n",
       "      <td>2</td>\n",
       "      <td>2</td>\n",
       "      <td>ANN1221</td>\n",
       "      <td>CO408564</td>\n",
       "      <td>2009-12-31 00:00:00</td>\n",
       "      <td>ANNUITY</td>\n",
       "      <td>STANDARD ANNUITY</td>\n",
       "      <td>NaN</td>\n",
       "    </tr>\n",
       "    <tr>\n",
       "      <td>3</td>\n",
       "      <td>3</td>\n",
       "      <td>ANN1221</td>\n",
       "      <td>CO408564</td>\n",
       "      <td>2010-01-31 00:00:00</td>\n",
       "      <td>ANNUITY</td>\n",
       "      <td>STANDARD ANNUITY</td>\n",
       "      <td>NaN</td>\n",
       "    </tr>\n",
       "    <tr>\n",
       "      <td>4</td>\n",
       "      <td>4</td>\n",
       "      <td>ANN1221</td>\n",
       "      <td>CO408564</td>\n",
       "      <td>2010-02-28 00:00:00</td>\n",
       "      <td>ANNUITY</td>\n",
       "      <td>STANDARD ANNUITY</td>\n",
       "      <td>NaN</td>\n",
       "    </tr>\n",
       "    <tr>\n",
       "      <td>...</td>\n",
       "      <td>...</td>\n",
       "      <td>...</td>\n",
       "      <td>...</td>\n",
       "      <td>...</td>\n",
       "      <td>...</td>\n",
       "      <td>...</td>\n",
       "      <td>...</td>\n",
       "    </tr>\n",
       "    <tr>\n",
       "      <td>72116</td>\n",
       "      <td>72116</td>\n",
       "      <td>RET100998</td>\n",
       "      <td>CO213842</td>\n",
       "      <td>2018-11-30 00:00:00</td>\n",
       "      <td>RETIREMENT</td>\n",
       "      <td>RETIREMENT ACCOUNT</td>\n",
       "      <td>470727.090909</td>\n",
       "    </tr>\n",
       "    <tr>\n",
       "      <td>72117</td>\n",
       "      <td>72117</td>\n",
       "      <td>RET100998</td>\n",
       "      <td>CO213842</td>\n",
       "      <td>2018-12-31 00:00:00</td>\n",
       "      <td>RETIREMENT</td>\n",
       "      <td>RETIREMENT ACCOUNT</td>\n",
       "      <td>520272.545455</td>\n",
       "    </tr>\n",
       "    <tr>\n",
       "      <td>72118</td>\n",
       "      <td>72118</td>\n",
       "      <td>RET100998</td>\n",
       "      <td>CO213842</td>\n",
       "      <td>2019-01-31 00:00:00</td>\n",
       "      <td>RETIREMENT</td>\n",
       "      <td>RETIREMENT ACCOUNT</td>\n",
       "      <td>569818.000000</td>\n",
       "    </tr>\n",
       "    <tr>\n",
       "      <td>72119</td>\n",
       "      <td>72119</td>\n",
       "      <td>RET100999</td>\n",
       "      <td>CO936943</td>\n",
       "      <td>2018-12-31 00:00:00</td>\n",
       "      <td>RETIREMENT</td>\n",
       "      <td>RETIREMENT ACCOUNT</td>\n",
       "      <td>490378.500000</td>\n",
       "    </tr>\n",
       "    <tr>\n",
       "      <td>72120</td>\n",
       "      <td>72120</td>\n",
       "      <td>RET100999</td>\n",
       "      <td>CO936943</td>\n",
       "      <td>2019-01-31 00:00:00</td>\n",
       "      <td>RETIREMENT</td>\n",
       "      <td>RETIREMENT ACCOUNT</td>\n",
       "      <td>955939.000000</td>\n",
       "    </tr>\n",
       "  </tbody>\n",
       "</table>\n",
       "<p>72121 rows × 7 columns</p>\n",
       "</div>"
      ],
      "text/plain": [
       "       index Policy Number Customer ID                 Date Product Category  \\\n",
       "0          0       ANN1221    CO408564  2009-10-31 00:00:00          ANNUITY   \n",
       "1          1       ANN1221    CO408564  2009-11-30 00:00:00          ANNUITY   \n",
       "2          2       ANN1221    CO408564  2009-12-31 00:00:00          ANNUITY   \n",
       "3          3       ANN1221    CO408564  2010-01-31 00:00:00          ANNUITY   \n",
       "4          4       ANN1221    CO408564  2010-02-28 00:00:00          ANNUITY   \n",
       "...      ...           ...         ...                  ...              ...   \n",
       "72116  72116     RET100998    CO213842  2018-11-30 00:00:00       RETIREMENT   \n",
       "72117  72117     RET100998    CO213842  2018-12-31 00:00:00       RETIREMENT   \n",
       "72118  72118     RET100998    CO213842  2019-01-31 00:00:00       RETIREMENT   \n",
       "72119  72119     RET100999    CO936943  2018-12-31 00:00:00       RETIREMENT   \n",
       "72120  72120     RET100999    CO936943  2019-01-31 00:00:00       RETIREMENT   \n",
       "\n",
       "             Product Name  Policy_Value_Snapshot  \n",
       "0        STANDARD ANNUITY                    NaN  \n",
       "1        STANDARD ANNUITY                    NaN  \n",
       "2        STANDARD ANNUITY                    NaN  \n",
       "3        STANDARD ANNUITY                    NaN  \n",
       "4        STANDARD ANNUITY                    NaN  \n",
       "...                   ...                    ...  \n",
       "72116  RETIREMENT ACCOUNT          470727.090909  \n",
       "72117  RETIREMENT ACCOUNT          520272.545455  \n",
       "72118  RETIREMENT ACCOUNT          569818.000000  \n",
       "72119  RETIREMENT ACCOUNT          490378.500000  \n",
       "72120  RETIREMENT ACCOUNT          955939.000000  \n",
       "\n",
       "[72121 rows x 7 columns]"
      ]
     },
     "execution_count": 106,
     "metadata": {},
     "output_type": "execute_result"
    }
   ],
   "source": [
    "sqlite_query = \"\"\"\n",
    "SELECT \n",
    "*\n",
    "from Fund_Table\n",
    "\n",
    "\n",
    "\"\"\"\n",
    "\n",
    "pd.read_sql(sqlite_query, conn)"
   ]
  },
  {
   "cell_type": "markdown",
   "metadata": {},
   "source": [
    "If a question requires additional explanation for your answer, please add additional cells below the code. "
   ]
  },
  {
   "cell_type": "markdown",
   "metadata": {
    "run_control": {
     "marked": true
    }
   },
   "source": [
    "## Q1: What is the current average policy value split by each product name? "
   ]
  },
  {
   "cell_type": "code",
   "execution_count": 153,
   "metadata": {
    "run_control": {
     "marked": true
    }
   },
   "outputs": [
    {
     "name": "stdout",
     "output_type": "stream",
     "text": [
      "                 Product Name Avg_Current_Policy_Value\n",
      "0        CORPORATE MEMBERSHIP                  5697.29\n",
      "1                FOCUSSED ISA                  5746.34\n",
      "2                 NHS PENSION                   5241.5\n",
      "3                    PRU BOND                  4516.39\n",
      "4  PRUDENTIAL INVESTMENT PLAN                  5084.52\n",
      "5              PRUDENTIAL ISA                  5161.14\n",
      "6          RETIREMENT ACCOUNT                   504965\n",
      "7                        SIPP                  5335.84\n",
      "8            STANDARD ANNUITY                        0\n"
     ]
    }
   ],
   "source": [
    "import numpy as np\n",
    "\n",
    "sqlite_query = \"\"\"SELECT [Product Name], AVG([Policy Value]) Avg_Current_Policy_Value\n",
    "FROM Policy_Table \n",
    "GROUP BY [Product Name] --HAVING [Product Name] = 'NHS PENSION'\n",
    "ORDER BY [Product Name]\n",
    "\"\"\"\n",
    "\n",
    "df=pd.read_sql(sqlite_query, conn)\n",
    "\n",
    "df[\"Avg_Current_Policy_Value\"].replace(np.nan, '0', inplace=True)\n",
    "\n",
    "print(df)"
   ]
  },
  {
   "cell_type": "markdown",
   "metadata": {
    "run_control": {
     "marked": true
    }
   },
   "source": [
    "## Q2: How many customers opened a new policy in Q1 2017 who already had an existing pension product? "
   ]
  },
  {
   "cell_type": "code",
   "execution_count": 78,
   "metadata": {
    "run_control": {
     "marked": true
    },
    "scrolled": true
   },
   "outputs": [
    {
     "data": {
      "text/html": [
       "<div>\n",
       "<style scoped>\n",
       "    .dataframe tbody tr th:only-of-type {\n",
       "        vertical-align: middle;\n",
       "    }\n",
       "\n",
       "    .dataframe tbody tr th {\n",
       "        vertical-align: top;\n",
       "    }\n",
       "\n",
       "    .dataframe thead th {\n",
       "        text-align: right;\n",
       "    }\n",
       "</style>\n",
       "<table border=\"1\" class=\"dataframe\">\n",
       "  <thead>\n",
       "    <tr style=\"text-align: right;\">\n",
       "      <th></th>\n",
       "      <th>Qtr</th>\n",
       "      <th>Year</th>\n",
       "      <th>index</th>\n",
       "      <th>Policy Number</th>\n",
       "      <th>Customer ID</th>\n",
       "      <th>Product Category</th>\n",
       "      <th>Product Name</th>\n",
       "      <th>Policy Value</th>\n",
       "      <th>Policy Start Date</th>\n",
       "    </tr>\n",
       "  </thead>\n",
       "  <tbody>\n",
       "    <tr>\n",
       "      <td>0</td>\n",
       "      <td>1</td>\n",
       "      <td>2017</td>\n",
       "      <td>352</td>\n",
       "      <td>RET100207</td>\n",
       "      <td>CO55494</td>\n",
       "      <td>RETIREMENT</td>\n",
       "      <td>RETIREMENT ACCOUNT</td>\n",
       "      <td>724367.0</td>\n",
       "      <td>2017-01-30 00:00:00</td>\n",
       "    </tr>\n",
       "    <tr>\n",
       "      <td>1</td>\n",
       "      <td>1</td>\n",
       "      <td>2017</td>\n",
       "      <td>353</td>\n",
       "      <td>RET100930</td>\n",
       "      <td>CO163919</td>\n",
       "      <td>RETIREMENT</td>\n",
       "      <td>RETIREMENT ACCOUNT</td>\n",
       "      <td>553463.0</td>\n",
       "      <td>2017-01-30 00:00:00</td>\n",
       "    </tr>\n",
       "    <tr>\n",
       "      <td>2</td>\n",
       "      <td>1</td>\n",
       "      <td>2017</td>\n",
       "      <td>354</td>\n",
       "      <td>RET100012</td>\n",
       "      <td>CO760027</td>\n",
       "      <td>RETIREMENT</td>\n",
       "      <td>RETIREMENT ACCOUNT</td>\n",
       "      <td>687770.0</td>\n",
       "      <td>2017-01-31 00:00:00</td>\n",
       "    </tr>\n",
       "    <tr>\n",
       "      <td>3</td>\n",
       "      <td>1</td>\n",
       "      <td>2017</td>\n",
       "      <td>355</td>\n",
       "      <td>RET100500</td>\n",
       "      <td>CO143604</td>\n",
       "      <td>RETIREMENT</td>\n",
       "      <td>RETIREMENT ACCOUNT</td>\n",
       "      <td>76598.0</td>\n",
       "      <td>2017-02-02 00:00:00</td>\n",
       "    </tr>\n",
       "  </tbody>\n",
       "</table>\n",
       "</div>"
      ],
      "text/plain": [
       "   Qtr  Year  index Policy Number Customer ID Product Category  \\\n",
       "0    1  2017    352     RET100207     CO55494       RETIREMENT   \n",
       "1    1  2017    353     RET100930    CO163919       RETIREMENT   \n",
       "2    1  2017    354     RET100012    CO760027       RETIREMENT   \n",
       "3    1  2017    355     RET100500    CO143604       RETIREMENT   \n",
       "\n",
       "         Product Name  Policy Value    Policy Start Date  \n",
       "0  RETIREMENT ACCOUNT      724367.0  2017-01-30 00:00:00  \n",
       "1  RETIREMENT ACCOUNT      553463.0  2017-01-30 00:00:00  \n",
       "2  RETIREMENT ACCOUNT      687770.0  2017-01-31 00:00:00  \n",
       "3  RETIREMENT ACCOUNT       76598.0  2017-02-02 00:00:00  "
      ]
     },
     "execution_count": 78,
     "metadata": {},
     "output_type": "execute_result"
    }
   ],
   "source": [
    "sqlite_query = \"\"\"SELECT \n",
    "CASE \n",
    "    WHEN CAST(strftime('%m', [Policy Start Date]) as integer) BETWEEN 1 AND 3 THEN 1 \n",
    "    WHEN CAST(strftime('%m', [Policy Start Date]) as integer) BETWEEN 4 AND 6 THEN 2\n",
    "    WHEN CAST(strftime('%m', [Policy Start Date]) as integer) BETWEEN 7 AND 9 THEN 3\n",
    "    ELSE 4\n",
    "END as Qtr, \n",
    "strftime('%Y', [Policy Start Date]) as Year, * \n",
    "FROM Policy_Table \n",
    "WHERE\n",
    "    strftime('%m', [Policy Start Date]) in ('01', '02', '03') \n",
    "    AND strftime('%Y', [Policy Start Date]) = '2017' \n",
    "    AND [Customer ID] IN (SELECT DISTINCT [Customer ID] \n",
    "                            from Policy_Table \n",
    "                            WHERE \n",
    "                            [Product Name] like '%Pension%')\n",
    "\n",
    "\"\"\"\n",
    "\n",
    "pd.read_sql(sqlite_query, conn)"
   ]
  },
  {
   "cell_type": "markdown",
   "metadata": {},
   "source": [
    "# Q2 - Assumptions\n",
    "\n",
    "1. Get the customer list who have already have existing pension policy in Policy_Table. So filtering data by \"Product Category=Pension\". So using subquery I have extracted that CustomerIDs.\n",
    "\n",
    "2. A main query where Policy data has been filtered out by QTR (calculated based on month), Year and CustomerIDs (used above subquery logic to get the customer list who already have pension plan).\n",
    "\n",
    "3. Assuming that new policy can also other than pension policy.\n",
    "\n",
    "4. Assuming that we want only the list of new policy. That is why existing pension policy has not been included into the result set."
   ]
  },
  {
   "cell_type": "markdown",
   "metadata": {
    "run_control": {
     "marked": true
    }
   },
   "source": [
    "## Q3: What was the customer ID that had the biggest difference in policy value between its earliest and latest date (for any product) ?"
   ]
  },
  {
   "cell_type": "code",
   "execution_count": 112,
   "metadata": {
    "run_control": {
     "marked": true
    }
   },
   "outputs": [
    {
     "data": {
      "text/html": [
       "<div>\n",
       "<style scoped>\n",
       "    .dataframe tbody tr th:only-of-type {\n",
       "        vertical-align: middle;\n",
       "    }\n",
       "\n",
       "    .dataframe tbody tr th {\n",
       "        vertical-align: top;\n",
       "    }\n",
       "\n",
       "    .dataframe thead th {\n",
       "        text-align: right;\n",
       "    }\n",
       "</style>\n",
       "<table border=\"1\" class=\"dataframe\">\n",
       "  <thead>\n",
       "    <tr style=\"text-align: right;\">\n",
       "      <th></th>\n",
       "      <th>Customer ID</th>\n",
       "      <th>MaxDate</th>\n",
       "      <th>Policy_Value_MaxDt</th>\n",
       "      <th>MinDate</th>\n",
       "      <th>Policy_Value_MinDt</th>\n",
       "      <th>Policy_Value_Diff</th>\n",
       "    </tr>\n",
       "  </thead>\n",
       "  <tbody>\n",
       "    <tr>\n",
       "      <td>0</td>\n",
       "      <td>CO687603</td>\n",
       "      <td>2019-01-31 00:00:00</td>\n",
       "      <td>989049.0</td>\n",
       "      <td>2017-12-31 00:00:00</td>\n",
       "      <td>93691.642857</td>\n",
       "      <td>895357.357143</td>\n",
       "    </tr>\n",
       "  </tbody>\n",
       "</table>\n",
       "</div>"
      ],
      "text/plain": [
       "  Customer ID              MaxDate  Policy_Value_MaxDt              MinDate  \\\n",
       "0    CO687603  2019-01-31 00:00:00            989049.0  2017-12-31 00:00:00   \n",
       "\n",
       "   Policy_Value_MinDt  Policy_Value_Diff  \n",
       "0        93691.642857      895357.357143  "
      ]
     },
     "execution_count": 112,
     "metadata": {},
     "output_type": "execute_result"
    }
   ],
   "source": [
    "sqlite_query = \"\"\"SELECT * FROM\n",
    "(\n",
    "    SELECT T1.[Customer ID], T1.MaxDate, T1.Policy_Value_MaxDt, T2.MinDate, T2.Policy_Value_MinDt, \n",
    "    (T1.Policy_Value_MaxDt - T2.Policy_Value_MinDt) AS Policy_Value_Diff  FROM\n",
    "    (\n",
    "        SELECT [Customer ID], Max(Date) as MaxDate, Policy_Value_Snapshot AS Policy_Value_MaxDt FROM Fund_Table TMax\n",
    "        GROUP BY [Customer ID]\n",
    "    ) T1\n",
    "    INNER JOIN\n",
    "    (\n",
    "        SELECT [Customer ID], Min(Date) as MinDate, Policy_Value_Snapshot AS Policy_Value_MinDt FROM Fund_Table TMin\n",
    "        GROUP BY [Customer ID]\n",
    "    ) T2 ON T1.[Customer ID]=T2.[Customer ID]\n",
    ") Final\n",
    "ORDER BY Policy_Value_Diff DESC\n",
    "limit 1\n",
    "\"\"\"\n",
    "\n",
    "pd.read_sql(sqlite_query, conn)"
   ]
  },
  {
   "cell_type": "markdown",
   "metadata": {},
   "source": [
    "# Q3 - Details\n",
    "\n",
    "[customer ID] - CO687603 had the biggest difference in policy value (895357.357143) between its earliest (2017-12-31 00:00:00) and latest date (2019-01-31 00:00:00) (for any product)"
   ]
  },
  {
   "cell_type": "markdown",
   "metadata": {
    "run_control": {
     "marked": true
    }
   },
   "source": [
    "# Python Test\n",
    "\n",
    "Same data, but now let's have some fun in python. Please do not use SQL for this part of the exercise. \n",
    "\n",
    "Feel free to add more cells of code or text"
   ]
  },
  {
   "cell_type": "code",
   "execution_count": 148,
   "metadata": {
    "run_control": {
     "marked": true
    }
   },
   "outputs": [
    {
     "name": "stdout",
     "output_type": "stream",
     "text": [
      "All value has been assigned successfully..\n",
      "     index Customer ID                           Email  Gender  Age  Postcode\n",
      "0        0    CO183683        NLUPPITT14@PARALLELS.COM    Male   90      None\n",
      "1        1    CO314757                            None  Female   90      None\n",
      "2        2    CO720602                            None  Female   90      None\n",
      "3        3     CO34804                            None  Female   90  1495-701\n",
      "4        4    CO474411                            None    Male   90    301288\n",
      "..     ...         ...                             ...     ...  ...       ...\n",
      "994    994    CO957494  CFRAMMINGHAM37@STUMBLEUPON.COM  Female   27     92736\n",
      "995    995    CO503828      RRICCIARDELLI38@GOOGLE.COM    Male   24      None\n",
      "996    996    CO340813           ODYZARTMY@SAMSUNG.COM    Male   22      None\n",
      "997    997    CO403019          VENDLENT@MICROSOFT.COM  Female   22    735 41\n",
      "998    998    CO274837       IOFIHILLIEDJ@BLOGSPOT.COM    Male   20      8306\n",
      "\n",
      "[999 rows x 6 columns]\n"
     ]
    }
   ],
   "source": [
    "Customer_Table = pd.read_sql('SELECT * FROM Customer_Table', conn)\n",
    "Policy_Table = pd.read_sql('SELECT * FROM Policy_Table', conn)\n",
    "Fund_Table = pd.read_sql('SELECT * FROM Fund_Table', conn)\n",
    "\n",
    "print('All value has been assigned successfully..')\n",
    "print(Customer_Table)"
   ]
  },
  {
   "cell_type": "markdown",
   "metadata": {
    "run_control": {
     "marked": true
    }
   },
   "source": [
    "## Q4: Produce a list of customers which have an invalid email address. What do you notice about these customers? ##\n",
    "\n",
    "Feel free to use any packages of your choice"
   ]
  },
  {
   "cell_type": "code",
   "execution_count": 192,
   "metadata": {
    "run_control": {
     "marked": true
    }
   },
   "outputs": [
    {
     "name": "stdout",
     "output_type": "stream",
     "text": [
      "\"re\" package loaded.\n"
     ]
    }
   ],
   "source": [
    "#Insert your answer below: \n",
    "\n",
    "import re\n",
    "\n",
    "print('\"re\" package loaded.')\n",
    "\n",
    "\n",
    "#print(Customer_Table['Email'].astype('str').tolist())\n"
   ]
  },
  {
   "cell_type": "code",
   "execution_count": 418,
   "metadata": {},
   "outputs": [
    {
     "name": "stdout",
     "output_type": "stream",
     "text": [
      "     index Customer ID                     Email  Gender  Age        Postcode\n",
      "1        1    CO314757                      None  Female   90            None\n",
      "2        2    CO720602                      None  Female   90            None\n",
      "3        3     CO34804                      None  Female   90        1495-701\n",
      "4        4    CO474411                      None    Male   90          301288\n",
      "5        5    CO777973                      None  Female   90            None\n",
      "6        6    CO311505                      None    Male   90            None\n",
      "7        7    CO474987                      None  Female   89            None\n",
      "8        8    CO496581                      None  Female   89       36520-000\n",
      "9        9    CO862381                      None    Male   89            8301\n",
      "22      22    CO401070                      None  Female   88            None\n",
      "28      28    CO131348                      None    Male   88            None\n",
      "29      29    CO494489                      None  Female   88            None\n",
      "30      30    CO340827                      None    Male   88            6121\n",
      "31      31    CO990552                      None    Male   87            1618\n",
      "32      32    CO623285                      None  Female   87            None\n",
      "33      33    CO276506                      None  Female   87            None\n",
      "34      34    CO531274                      None  Female   87            None\n",
      "35      35    CO486130                      None    Male   87          649787\n",
      "36      36    CO607185                      None    Male   87            None\n",
      "37      37    CO797073                      None  Female   87            None\n",
      "38      38    CO697092                      None  Female   87            None\n",
      "39      39    CO462135                      None    Male   87            None\n",
      "40      40    CO636054                      None    Male   87  75706 CEDEX 13\n",
      "41      41     CO28776                      None    Male   87            7019\n",
      "49      49    CO259564                      None    Male   87            None\n",
      "65      65    CO377225                      None  Female   85           70826\n",
      "66      66    CO343669                      None  Female   85            None\n",
      "67      67     CO76470                      None    Male   85           29952\n",
      "68      68    CO997036                      None    Male   85            None\n",
      "69      69    CO878780                      None  Female   85            None\n",
      "70      70    CO714161                      None    Male   85            None\n",
      "71      71     CO46570                      None  Female   85            None\n",
      "72      72     CO34681                      None    Male   85            None\n",
      "73      73    CO521545                      None    Male   85        4950-070\n",
      "74      74    CO823952                      None    Male   85            None\n",
      "75      75    CO478692                      None    Male   85            2432\n",
      "76      76    CO360302                      None  Female   84            2980\n",
      "121    121    CO609712                   NOEMAIL    Male   81            None\n",
      "174    174    CO668361                      None    Male   76            None\n",
      "188    188    CO321339                      None  Female   75            None\n",
      "189    189    CO424141                      None    Male   75            None\n",
      "218    218     CO71578           TGADDIEHB@TOPSY  Female   74            None\n",
      "219    219    CO545536   VPEGGSK3@@@SPRINGER.COM    Male   74       46100-000\n",
      "229    229    CO660405                      None    Male   73         MD-6227\n",
      "249    249    CO186677                      None    Male   71            None\n",
      "337    337    CO795420                         .  Female   68          680011\n",
      "367    367    CO825106                      None  Female   65          59-225\n",
      "368    368    CO285665                      None    Male   65            None\n",
      "399    399    CO205159  ALOWSELYHF@#AMAZON.CO.JP  Female   65            None\n",
      "491    491    CO155821                      None    Male   64          521 96\n",
      "492    492     CO20742                      None  Female   64           46240\n",
      "564    564    CO177172                      None    Male   62            None\n",
      "973    973    CO922481     CUSTOMER TO FOLLOW UP    Male   33            8340\n"
     ]
    }
   ],
   "source": [
    "pattern = re.compile(r\"(^[a-zA-Z0-9_.+-]+@[a-zA-Z0-9-]+\\.[a-zA-Z0-9-.]+$)\")  # this is the regex expression to search on\n",
    "\n",
    "df_ct = pd.DataFrame({'email': Customer_Table['Email'].astype('str').tolist(), 'Customer ID' : Customer_Table['Customer ID'].astype('str').tolist()})\n",
    "df_ct['isemail'] = df_ct['email'].apply(lambda x: True if pattern.match(x) else False)\n",
    "\n",
    "#print(df_ct)\n",
    "\n",
    "df_ct_filter= df_ct[df_ct['isemail']==False]\n",
    "\n",
    "#print(df_ct_filter)\n",
    "\n",
    "print(Customer_Table[Customer_Table['Customer ID'].isin(df_ct_filter['Customer ID'].astype('str').tolist())])"
   ]
  },
  {
   "cell_type": "markdown",
   "metadata": {
    "run_control": {
     "marked": true
    }
   },
   "source": [
    "## Q5: The Managing Director of Pru Wealth needs to see how policy value differs between other variables in the database (e.g. customer demographics) . They don't have time to read a report, so have asked for a cool visualisation that tells a story.\n",
    "\n",
    "Visualise something cool, tell us a story! You can use packages like Matplotlib, Seaborn or Plotly.Tell us why you chose to visualise the data in this way and how it can be used from a business perspective.\n"
   ]
  },
  {
   "cell_type": "markdown",
   "metadata": {
    "run_control": {
     "marked": true
    }
   },
   "source": [
    "###### Data Wrangling\n",
    "\n",
    "Taking below field for analysis.\n",
    "\n",
    "    1. Customer ID\n",
    "    2. Gender\n",
    "    3. Age\n",
    "    4. Postcode\n",
    "    5. Product Category\n",
    "    6. Product Name\n",
    "    7. Policy Value\n",
    "    \n",
    " Note: Post code cannot be consider as it has missing values."
   ]
  },
  {
   "cell_type": "code",
   "execution_count": 333,
   "metadata": {},
   "outputs": [
    {
     "name": "stdout",
     "output_type": "stream",
     "text": [
      "\n",
      "Data type: \n",
      "\n",
      "Customer ID          object\n",
      "Gender               object\n",
      "Age                   int64\n",
      "Postcode             object\n",
      "Product_Category     object\n",
      "Product_Name         object\n",
      "Policy_Value        float64\n",
      "dtype: object\n",
      "\n",
      "Gender counts \n",
      "\n",
      "Male      827\n",
      "Female    808\n",
      "Name: Gender, dtype: int64\n"
     ]
    }
   ],
   "source": [
    "# Insert your answer below: \n",
    "\n",
    "#Customer_Table = pd.read_sql('SELECT * FROM Customer_Table', conn)\n",
    "#Policy_Table = pd.read_sql('SELECT * FROM Policy_Table', conn)\n",
    "\n",
    "df_cp = pd.read_sql('SELECT C.[Customer ID], C.Gender, C.Age, C.Postcode, P.[Product Category] as Product_Category, P.[Product Name] as Product_Name, P.[Policy Value] as Policy_Value FROM Customer_Table C INNER JOIN Policy_Table P on P.[Customer ID]=C.[Customer ID] ', conn)\n",
    "\n",
    "df_cp\n",
    "\n",
    "#df_cp.describe()\n",
    "\n",
    "\n",
    "\n",
    "#Avg_Current_Policy_Value\n",
    "\n",
    "\n",
    "#print(\"number of NaN values for the column Policy Value :\", df_cp['Policy Value'].isnull().sum())\n",
    "\n",
    "print('\\nData type: \\n') \n",
    "print(df_cp.dtypes)\n",
    "print('\\nGender counts \\n')\n",
    "print(df_cp['Gender'].value_counts())\n"
   ]
  },
  {
   "cell_type": "code",
   "execution_count": 334,
   "metadata": {},
   "outputs": [
    {
     "data": {
      "text/html": [
       "<div>\n",
       "<style scoped>\n",
       "    .dataframe tbody tr th:only-of-type {\n",
       "        vertical-align: middle;\n",
       "    }\n",
       "\n",
       "    .dataframe tbody tr th {\n",
       "        vertical-align: top;\n",
       "    }\n",
       "\n",
       "    .dataframe thead th {\n",
       "        text-align: right;\n",
       "    }\n",
       "</style>\n",
       "<table border=\"1\" class=\"dataframe\">\n",
       "  <thead>\n",
       "    <tr style=\"text-align: right;\">\n",
       "      <th></th>\n",
       "      <th>Customer ID</th>\n",
       "      <th>Gender</th>\n",
       "      <th>Age</th>\n",
       "      <th>Postcode</th>\n",
       "      <th>Product_Category</th>\n",
       "      <th>Product_Name</th>\n",
       "      <th>Policy_Value</th>\n",
       "    </tr>\n",
       "  </thead>\n",
       "  <tbody>\n",
       "    <tr>\n",
       "      <td>0</td>\n",
       "      <td>CO183683</td>\n",
       "      <td>Male</td>\n",
       "      <td>90</td>\n",
       "      <td>None</td>\n",
       "      <td>RETIREMENT</td>\n",
       "      <td>RETIREMENT ACCOUNT</td>\n",
       "      <td>744154.000000</td>\n",
       "    </tr>\n",
       "    <tr>\n",
       "      <td>1</td>\n",
       "      <td>CO314757</td>\n",
       "      <td>Female</td>\n",
       "      <td>90</td>\n",
       "      <td>None</td>\n",
       "      <td>ANNUITY</td>\n",
       "      <td>STANDARD ANNUITY</td>\n",
       "      <td>335213.494382</td>\n",
       "    </tr>\n",
       "    <tr>\n",
       "      <td>2</td>\n",
       "      <td>CO314757</td>\n",
       "      <td>Female</td>\n",
       "      <td>90</td>\n",
       "      <td>None</td>\n",
       "      <td>RETIREMENT</td>\n",
       "      <td>RETIREMENT ACCOUNT</td>\n",
       "      <td>192389.000000</td>\n",
       "    </tr>\n",
       "    <tr>\n",
       "      <td>3</td>\n",
       "      <td>CO720602</td>\n",
       "      <td>Female</td>\n",
       "      <td>90</td>\n",
       "      <td>None</td>\n",
       "      <td>RETIREMENT</td>\n",
       "      <td>RETIREMENT ACCOUNT</td>\n",
       "      <td>904394.000000</td>\n",
       "    </tr>\n",
       "    <tr>\n",
       "      <td>4</td>\n",
       "      <td>CO34804</td>\n",
       "      <td>Female</td>\n",
       "      <td>90</td>\n",
       "      <td>1495-701</td>\n",
       "      <td>ANNUITY</td>\n",
       "      <td>STANDARD ANNUITY</td>\n",
       "      <td>335213.494382</td>\n",
       "    </tr>\n",
       "    <tr>\n",
       "      <td>...</td>\n",
       "      <td>...</td>\n",
       "      <td>...</td>\n",
       "      <td>...</td>\n",
       "      <td>...</td>\n",
       "      <td>...</td>\n",
       "      <td>...</td>\n",
       "      <td>...</td>\n",
       "    </tr>\n",
       "    <tr>\n",
       "      <td>1630</td>\n",
       "      <td>CO340813</td>\n",
       "      <td>Male</td>\n",
       "      <td>22</td>\n",
       "      <td>None</td>\n",
       "      <td>ISA</td>\n",
       "      <td>FOCUSSED ISA</td>\n",
       "      <td>7176.000000</td>\n",
       "    </tr>\n",
       "    <tr>\n",
       "      <td>1631</td>\n",
       "      <td>CO340813</td>\n",
       "      <td>Male</td>\n",
       "      <td>22</td>\n",
       "      <td>None</td>\n",
       "      <td>RETIREMENT</td>\n",
       "      <td>RETIREMENT ACCOUNT</td>\n",
       "      <td>533501.000000</td>\n",
       "    </tr>\n",
       "    <tr>\n",
       "      <td>1632</td>\n",
       "      <td>CO403019</td>\n",
       "      <td>Female</td>\n",
       "      <td>22</td>\n",
       "      <td>735 41</td>\n",
       "      <td>RETIREMENT</td>\n",
       "      <td>RETIREMENT ACCOUNT</td>\n",
       "      <td>280107.000000</td>\n",
       "    </tr>\n",
       "    <tr>\n",
       "      <td>1633</td>\n",
       "      <td>CO274837</td>\n",
       "      <td>Male</td>\n",
       "      <td>20</td>\n",
       "      <td>8306</td>\n",
       "      <td>ISA</td>\n",
       "      <td>PRUDENTIAL ISA</td>\n",
       "      <td>6740.000000</td>\n",
       "    </tr>\n",
       "    <tr>\n",
       "      <td>1634</td>\n",
       "      <td>CO274837</td>\n",
       "      <td>Male</td>\n",
       "      <td>20</td>\n",
       "      <td>8306</td>\n",
       "      <td>RETIREMENT</td>\n",
       "      <td>RETIREMENT ACCOUNT</td>\n",
       "      <td>667547.000000</td>\n",
       "    </tr>\n",
       "  </tbody>\n",
       "</table>\n",
       "<p>1635 rows × 7 columns</p>\n",
       "</div>"
      ],
      "text/plain": [
       "     Customer ID  Gender  Age  Postcode Product_Category        Product_Name  \\\n",
       "0       CO183683    Male   90      None       RETIREMENT  RETIREMENT ACCOUNT   \n",
       "1       CO314757  Female   90      None          ANNUITY    STANDARD ANNUITY   \n",
       "2       CO314757  Female   90      None       RETIREMENT  RETIREMENT ACCOUNT   \n",
       "3       CO720602  Female   90      None       RETIREMENT  RETIREMENT ACCOUNT   \n",
       "4        CO34804  Female   90  1495-701          ANNUITY    STANDARD ANNUITY   \n",
       "...          ...     ...  ...       ...              ...                 ...   \n",
       "1630    CO340813    Male   22      None              ISA        FOCUSSED ISA   \n",
       "1631    CO340813    Male   22      None       RETIREMENT  RETIREMENT ACCOUNT   \n",
       "1632    CO403019  Female   22    735 41       RETIREMENT  RETIREMENT ACCOUNT   \n",
       "1633    CO274837    Male   20      8306              ISA      PRUDENTIAL ISA   \n",
       "1634    CO274837    Male   20      8306       RETIREMENT  RETIREMENT ACCOUNT   \n",
       "\n",
       "       Policy_Value  \n",
       "0     744154.000000  \n",
       "1     335213.494382  \n",
       "2     192389.000000  \n",
       "3     904394.000000  \n",
       "4     335213.494382  \n",
       "...             ...  \n",
       "1630    7176.000000  \n",
       "1631  533501.000000  \n",
       "1632  280107.000000  \n",
       "1633    6740.000000  \n",
       "1634  667547.000000  \n",
       "\n",
       "[1635 rows x 7 columns]"
      ]
     },
     "execution_count": 334,
     "metadata": {},
     "output_type": "execute_result"
    }
   ],
   "source": [
    "mean=df_cp['Policy_Value'].mean()\n",
    "df_cp['Policy_Value'].replace(np.nan,mean, inplace=True)\n",
    "df_cp\n",
    "\n",
    "#Pre-processing\n",
    "#As you can see, Address in this dataset is a categorical variable. The k-means algorithm isn't directly applicable to categorical variables because the Euclidean distance function isn't really meaningful for discrete variables. So, let's drop this feature and run clustering.\n",
    "\n",
    "#df_cp = df_cp.drop(['Customer ID', 'Postcode'], axis=1)\n",
    "\n"
   ]
  },
  {
   "cell_type": "code",
   "execution_count": 316,
   "metadata": {},
   "outputs": [
    {
     "name": "stdout",
     "output_type": "stream",
     "text": [
      "Collecting package metadata (current_repodata.json): ...working... done\n",
      "Solving environment: ...working... done\n",
      "\n",
      "## Package Plan ##\n",
      "\n",
      "  environment location: C:\\Users\\anuragsr\\AppData\\Local\\Continuum\\anaconda3\n",
      "\n",
      "  added / updated specs:\n",
      "    - seaborn\n",
      "\n",
      "\n",
      "The following packages will be downloaded:\n",
      "\n",
      "    package                    |            build\n",
      "    ---------------------------|-----------------\n",
      "    conda-4.9.0                |           py37_0         3.1 MB  anaconda\n",
      "    seaborn-0.9.0              |           py37_0         379 KB  anaconda\n",
      "    ------------------------------------------------------------\n",
      "                                           Total:         3.5 MB\n",
      "\n",
      "The following packages will be UPDATED:\n",
      "\n",
      "  conda                      pkgs/main::conda-4.7.12-py37_0 --> anaconda::conda-4.9.0-py37_0\n",
      "\n",
      "The following packages will be SUPERSEDED by a higher-priority channel:\n",
      "\n",
      "  seaborn                                         pkgs/main --> anaconda\n",
      "\n",
      "\n",
      "\n",
      "Downloading and Extracting Packages\n",
      "\n",
      "conda-4.9.0          | 3.1 MB    |            |   0% \n",
      "conda-4.9.0          | 3.1 MB    |            |   0% \n",
      "conda-4.9.0          | 3.1 MB    | 2          |   2% \n",
      "conda-4.9.0          | 3.1 MB    | 8          |   9% \n",
      "conda-4.9.0          | 3.1 MB    | #4         |  15% \n",
      "conda-4.9.0          | 3.1 MB    | #7         |  18% \n",
      "conda-4.9.0          | 3.1 MB    | ##9        |  29% \n",
      "conda-4.9.0          | 3.1 MB    | ####8      |  49% \n",
      "conda-4.9.0          | 3.1 MB    | #####7     |  58% \n",
      "conda-4.9.0          | 3.1 MB    | ########4  |  84% \n",
      "conda-4.9.0          | 3.1 MB    | #########5 |  95% \n",
      "conda-4.9.0          | 3.1 MB    | ########## | 100% \n",
      "\n",
      "seaborn-0.9.0        | 379 KB    |            |   0% \n",
      "seaborn-0.9.0        | 379 KB    | 4          |   4% \n",
      "seaborn-0.9.0        | 379 KB    | ########## | 100% \n",
      "Preparing transaction: ...working... done\n",
      "Verifying transaction: ...working... done\n",
      "Executing transaction: ...working... done\n"
     ]
    },
    {
     "name": "stderr",
     "output_type": "stream",
     "text": [
      "\n",
      "\n",
      "==> WARNING: A newer version of conda exists. <==\n",
      "  current version: 4.7.12\n",
      "  latest version: 4.10.3\n",
      "\n",
      "Please update conda by running\n",
      "\n",
      "    $ conda update -n base -c defaults conda\n",
      "\n",
      "\n"
     ]
    }
   ],
   "source": [
    "!conda install -c anaconda seaborn -y"
   ]
  },
  {
   "cell_type": "code",
   "execution_count": 335,
   "metadata": {},
   "outputs": [],
   "source": [
    "import random \n",
    "import matplotlib.pyplot as plt \n",
    "from sklearn.cluster import KMeans \n",
    "from sklearn.datasets.samples_generator import make_blobs \n",
    "import seaborn as sns\n",
    "\n",
    "np.random.seed(0)\n",
    "\n"
   ]
  },
  {
   "cell_type": "code",
   "execution_count": 336,
   "metadata": {},
   "outputs": [
    {
     "data": {
      "image/png": "[encoded data removed]",
      "text/plain": [
       "<Figure size 432x216 with 2 Axes>"
      ]
     },
     "metadata": {
      "needs_background": "light"
     },
     "output_type": "display_data"
    }
   ],
   "source": [
    "bins = np.linspace(df_cp.Age.min(), df_cp.Age.max(), 10)\n",
    "g = sns.FacetGrid(df_cp, col=\"Gender\", hue=\"Product_Category\", palette=\"Set1\", col_wrap=2)\n",
    "g.map(plt.hist, 'Age', bins=bins, ec=\"k\")\n",
    "g.axes[-1].legend()\n",
    "plt.show()"
   ]
  },
  {
   "cell_type": "markdown",
   "metadata": {},
   "source": [
    "###### Observation:\n",
    "\n",
    "1. Most Customer opt for Rerirement Policy\n",
    "2. Customer age > 60 invested lot in Retirement Policy.\n",
    "3. Some of the customer whose age > 60 opt for Pension policy.\n",
    "4. 122 customer who have policy value is zero.\n",
    "\n",
    "###### Business Analysis and future strategy:\n",
    "\n",
    "1. Company should do further analysis and design Product to target customer below <40 and try to acquire customer base and increase business.\n",
    "2. To get clarity, we should do further analysis why other products like Annuity and Bond not performing same as retirement plan. See if we can tune the product and target particular segment of customer based on their demography (Age, Sex, Income)."
   ]
  },
  {
   "cell_type": "code",
   "execution_count": 395,
   "metadata": {},
   "outputs": [
    {
     "data": {
      "text/html": [
       "<div>\n",
       "<style scoped>\n",
       "    .dataframe tbody tr th:only-of-type {\n",
       "        vertical-align: middle;\n",
       "    }\n",
       "\n",
       "    .dataframe tbody tr th {\n",
       "        vertical-align: top;\n",
       "    }\n",
       "\n",
       "    .dataframe thead th {\n",
       "        text-align: right;\n",
       "    }\n",
       "</style>\n",
       "<table border=\"1\" class=\"dataframe\">\n",
       "  <thead>\n",
       "    <tr style=\"text-align: right;\">\n",
       "      <th></th>\n",
       "      <th>Gender</th>\n",
       "      <th>Product_Category</th>\n",
       "      <th>PolicyCount</th>\n",
       "    </tr>\n",
       "  </thead>\n",
       "  <tbody>\n",
       "    <tr>\n",
       "      <td>0</td>\n",
       "      <td>Female</td>\n",
       "      <td>ANNUITY</td>\n",
       "      <td>53</td>\n",
       "    </tr>\n",
       "    <tr>\n",
       "      <td>1</td>\n",
       "      <td>Female</td>\n",
       "      <td>BOND</td>\n",
       "      <td>80</td>\n",
       "    </tr>\n",
       "    <tr>\n",
       "      <td>2</td>\n",
       "      <td>Female</td>\n",
       "      <td>ISA</td>\n",
       "      <td>100</td>\n",
       "    </tr>\n",
       "    <tr>\n",
       "      <td>3</td>\n",
       "      <td>Female</td>\n",
       "      <td>PENSION</td>\n",
       "      <td>85</td>\n",
       "    </tr>\n",
       "    <tr>\n",
       "      <td>4</td>\n",
       "      <td>Female</td>\n",
       "      <td>RETIREMENT</td>\n",
       "      <td>490</td>\n",
       "    </tr>\n",
       "    <tr>\n",
       "      <td>5</td>\n",
       "      <td>Male</td>\n",
       "      <td>ANNUITY</td>\n",
       "      <td>69</td>\n",
       "    </tr>\n",
       "    <tr>\n",
       "      <td>6</td>\n",
       "      <td>Male</td>\n",
       "      <td>BOND</td>\n",
       "      <td>78</td>\n",
       "    </tr>\n",
       "    <tr>\n",
       "      <td>7</td>\n",
       "      <td>Male</td>\n",
       "      <td>ISA</td>\n",
       "      <td>85</td>\n",
       "    </tr>\n",
       "    <tr>\n",
       "      <td>8</td>\n",
       "      <td>Male</td>\n",
       "      <td>PENSION</td>\n",
       "      <td>86</td>\n",
       "    </tr>\n",
       "    <tr>\n",
       "      <td>9</td>\n",
       "      <td>Male</td>\n",
       "      <td>RETIREMENT</td>\n",
       "      <td>509</td>\n",
       "    </tr>\n",
       "  </tbody>\n",
       "</table>\n",
       "</div>"
      ],
      "text/plain": [
       "   Gender Product_Category  PolicyCount\n",
       "0  Female          ANNUITY           53\n",
       "1  Female             BOND           80\n",
       "2  Female              ISA          100\n",
       "3  Female          PENSION           85\n",
       "4  Female       RETIREMENT          490\n",
       "5    Male          ANNUITY           69\n",
       "6    Male             BOND           78\n",
       "7    Male              ISA           85\n",
       "8    Male          PENSION           86\n",
       "9    Male       RETIREMENT          509"
      ]
     },
     "execution_count": 395,
     "metadata": {},
     "output_type": "execute_result"
    }
   ],
   "source": [
    "df_cp = pd.read_sql('SELECT C.Gender, P.[Product Category] as Product_Category, Count(*) as PolicyCount FROM Customer_Table C INNER JOIN Policy_Table P on P.[Customer ID]=C.[Customer ID] GROUP BY C.Gender, P.[Product Category] ORDER BY C.Gender, P.[Product Category] ', conn)\n",
    "#df_cp = pd.read_sql('SELECT P.[Product Name] as Product_Name, Count(*) as PolicyCount FROM Customer_Table C INNER JOIN Policy_Table P on P.[Customer ID]=C.[Customer ID] GROUP BY P.[Product Name]', conn)\n",
    "\n",
    "df_cp"
   ]
  },
  {
   "cell_type": "code",
   "execution_count": 452,
   "metadata": {},
   "outputs": [
    {
     "data": {
      "image/png": "[encoded data removed]",
      "text/plain": [
       "<Figure size 864x576 with 1 Axes>"
      ]
     },
     "metadata": {
      "needs_background": "light"
     },
     "output_type": "display_data"
    }
   ],
   "source": [
    "# Use Seaborn's context settings to make fonts larger.\n",
    "import seaborn as sns\n",
    "sns.set_context('talk')\n",
    "\n",
    "# Create a grouped bar chart, with job as the x-axis\n",
    "# and gender as the variable we're grouping on so there\n",
    "# are two bars per job.\n",
    "fig, ax = plt.subplots(figsize=(12, 8))\n",
    "\n",
    "# Our x-axis. We basically just want a list\n",
    "# of numbers from zero with a value for each\n",
    "# of our jobs.\n",
    "x = np.arange(len(df_cp.Product_Category.unique()))\n",
    "\n",
    "# Define bar width. We need this to offset the second bar.\n",
    "bar_width = 0.4\n",
    "\n",
    "b1 = ax.bar(x, df_cp.loc[df_cp['Gender'] == 'Male', 'PolicyCount'],\n",
    "            width=bar_width, label='Male')\n",
    "# Same thing, but offset the x.\n",
    "b2 = ax.bar(x + bar_width, df_cp.loc[df_cp['Gender'] == 'Female', 'PolicyCount'],\n",
    "            width=bar_width, label='Female')\n",
    "\n",
    "# Fix the x-axes.\n",
    "ax.set_xticks(x + bar_width / 2)\n",
    "ax.set_xticklabels(df_cp.Product_Category.unique())\n",
    "\n",
    "# Add legend.\n",
    "ax.legend()\n",
    "\n",
    "# Axis styling.\n",
    "ax.spines['top'].set_visible(False)\n",
    "ax.spines['right'].set_visible(False)\n",
    "ax.spines['left'].set_visible(False)\n",
    "ax.spines['bottom'].set_color('#DDDDDD')\n",
    "ax.tick_params(bottom=False, left=False)\n",
    "ax.set_axisbelow(True)\n",
    "ax.yaxis.grid(True, color='#EEEEEE')\n",
    "ax.xaxis.grid(False)\n",
    "\n",
    "# Add axis and chart labels.\n",
    "ax.set_xlabel('Product Category', labelpad=15)\n",
    "ax.set_ylabel('No. of Policy', labelpad=15)\n",
    "ax.set_title('No of Policy Purchased by Gender and Product Category', pad=15)\n",
    "\n",
    "fig.tight_layout()\n",
    "\n",
    "# For each bar in the chart, add a text label.\n",
    "for bar in ax.patches:\n",
    "  # The text annotation for each bar should be its height.\n",
    "  bar_value = bar.get_height()\n",
    "  # Format the text with commas to separate thousands. You can do\n",
    "  # any type of formatting here though.\n",
    "  text = f'{bar_value:,}'\n",
    "  # This will give the middle of each bar on the x-axis.\n",
    "  text_x = bar.get_x() + bar.get_width() / 2\n",
    "  # get_y() is where the bar starts so we add the height to it.\n",
    "  text_y = bar.get_y() + bar_value\n",
    "  # If we want the text to be the same color as the bar, we can\n",
    "  # get the color like so:\n",
    "  bar_color = bar.get_facecolor()\n",
    "  # If you want a consistent color, you can just set it as a constant, e.g. #222222\n",
    "  ax.text(text_x, text_y, text, ha='center', va='bottom', color=bar_color,\n",
    "          size=12)"
   ]
  },
  {
   "cell_type": "markdown",
   "metadata": {},
   "source": [
    "###### Another way of looking data and observations:\n",
    "\n",
    "1. We can see Retirement Policy is performing well.\n",
    "2. Annuity, Bond, ISA and Pension which have very less customer\n",
    "\n"
   ]
  },
  {
   "cell_type": "code",
   "execution_count": 471,
   "metadata": {},
   "outputs": [
    {
     "data": {
      "text/html": [
       "<div>\n",
       "<style scoped>\n",
       "    .dataframe tbody tr th:only-of-type {\n",
       "        vertical-align: middle;\n",
       "    }\n",
       "\n",
       "    .dataframe tbody tr th {\n",
       "        vertical-align: top;\n",
       "    }\n",
       "\n",
       "    .dataframe thead th {\n",
       "        text-align: right;\n",
       "    }\n",
       "</style>\n",
       "<table border=\"1\" class=\"dataframe\">\n",
       "  <thead>\n",
       "    <tr style=\"text-align: right;\">\n",
       "      <th></th>\n",
       "      <th>Gender</th>\n",
       "      <th>Product_Category</th>\n",
       "      <th>Policy_Value</th>\n",
       "    </tr>\n",
       "  </thead>\n",
       "  <tbody>\n",
       "    <tr>\n",
       "      <td>1</td>\n",
       "      <td>Female</td>\n",
       "      <td>BOND</td>\n",
       "      <td>401095.0</td>\n",
       "    </tr>\n",
       "    <tr>\n",
       "      <td>2</td>\n",
       "      <td>Female</td>\n",
       "      <td>ISA</td>\n",
       "      <td>532928.0</td>\n",
       "    </tr>\n",
       "    <tr>\n",
       "      <td>3</td>\n",
       "      <td>Female</td>\n",
       "      <td>PENSION</td>\n",
       "      <td>444213.0</td>\n",
       "    </tr>\n",
       "    <tr>\n",
       "      <td>4</td>\n",
       "      <td>Female</td>\n",
       "      <td>RETIREMENT</td>\n",
       "      <td>255458725.0</td>\n",
       "    </tr>\n",
       "    <tr>\n",
       "      <td>6</td>\n",
       "      <td>Male</td>\n",
       "      <td>BOND</td>\n",
       "      <td>368739.0</td>\n",
       "    </tr>\n",
       "    <tr>\n",
       "      <td>7</td>\n",
       "      <td>Male</td>\n",
       "      <td>ISA</td>\n",
       "      <td>495618.0</td>\n",
       "    </tr>\n",
       "    <tr>\n",
       "      <td>8</td>\n",
       "      <td>Male</td>\n",
       "      <td>PENSION</td>\n",
       "      <td>475429.0</td>\n",
       "    </tr>\n",
       "    <tr>\n",
       "      <td>9</td>\n",
       "      <td>Male</td>\n",
       "      <td>RETIREMENT</td>\n",
       "      <td>249001270.0</td>\n",
       "    </tr>\n",
       "  </tbody>\n",
       "</table>\n",
       "</div>"
      ],
      "text/plain": [
       "   Gender Product_Category  Policy_Value\n",
       "1  Female             BOND      401095.0\n",
       "2  Female              ISA      532928.0\n",
       "3  Female          PENSION      444213.0\n",
       "4  Female       RETIREMENT   255458725.0\n",
       "6    Male             BOND      368739.0\n",
       "7    Male              ISA      495618.0\n",
       "8    Male          PENSION      475429.0\n",
       "9    Male       RETIREMENT   249001270.0"
      ]
     },
     "execution_count": 471,
     "metadata": {},
     "output_type": "execute_result"
    }
   ],
   "source": [
    "df_pVal = pd.read_sql('SELECT C.Gender, P.[Product Category] as Product_Category, Sum(P.[Policy Value]) as Policy_Value FROM Customer_Table C INNER JOIN Policy_Table P on P.[Customer ID]=C.[Customer ID] GROUP BY C.Gender, P.[Product Category] ', conn)\n",
    "\n",
    "df_pVal[\"Policy_Value\"].replace(np.nan, 0, inplace=True)\n",
    "\n",
    "df_pVal = df_pVal[df_pVal['Policy_Value']>0]\n",
    "\n",
    "df_pVal\n",
    "\n",
    "\n"
   ]
  },
  {
   "cell_type": "code",
   "execution_count": 487,
   "metadata": {},
   "outputs": [
    {
     "data": {
      "image/png": "[encoded data removed]",
      "text/plain": [
       "<Figure size 720x576 with 1 Axes>"
      ]
     },
     "metadata": {
      "needs_background": "light"
     },
     "output_type": "display_data"
    }
   ],
   "source": [
    "# Create a grouped bar chart, with job as the x-axis\n",
    "# and gender as the variable we're grouping on so there\n",
    "# are two bars per job.\n",
    "fig, ax = plt.subplots(figsize=(10, 8))\n",
    "\n",
    "# Our x-axis. We basically just want a list\n",
    "# of numbers from zero with a value for each\n",
    "# of our jobs.\n",
    "x = np.arange(len(df_pVal.Product_Category.unique()))\n",
    "\n",
    "# Define bar width. We need this to offset the second bar.\n",
    "bar_width = 0.8\n",
    "\n",
    "b1 = ax.bar(x, df_pVal.loc[df_pVal['Gender'] == 'Male', 'Policy_Value'],\n",
    "            width=bar_width, label='Male')\n",
    "# Same thing, but offset the x.\n",
    "b2 = ax.bar(x + bar_width, df_pVal.loc[df_pVal['Gender'] == 'Female', 'Policy_Value'],\n",
    "            width=bar_width, label='Female')\n",
    "\n",
    "# Fix the x-axes.\n",
    "ax.set_xticks(x + bar_width / 2)\n",
    "ax.set_xticklabels(df_pVal.Product_Category.unique())\n",
    "\n",
    "# Add legend.\n",
    "ax.legend()\n",
    "\n",
    "# Axis styling.\n",
    "ax.spines['top'].set_visible(False)\n",
    "ax.spines['right'].set_visible(False)\n",
    "ax.spines['left'].set_visible(False)\n",
    "ax.spines['bottom'].set_color('#DDDDDD')\n",
    "ax.tick_params(bottom=False, left=False)\n",
    "ax.set_axisbelow(True)\n",
    "ax.yaxis.grid(True, color='#EEEEEE')\n",
    "ax.xaxis.grid(False)\n",
    "\n",
    "# Add axis and chart labels.\n",
    "ax.set_xlabel('Product Category', labelpad=15)\n",
    "ax.set_ylabel('Policy Value (Milion)', labelpad=15)\n",
    "ax.set_title('Policy Value by Gender and Product Category', pad=15)\n",
    "\n",
    "fig.tight_layout()\n",
    "\n",
    "fig.tight_layout()\n",
    "\n",
    "# For each bar in the chart, add a text label.\n",
    "for bar in ax.patches:\n",
    "  # The text annotation for each bar should be its height.\n",
    "  bar_value = bar.get_height()\n",
    "  # Format the text with commas to separate thousands. You can do\n",
    "  # any type of formatting here though.\n",
    "  text = f'{bar_value:,}'\n",
    "  # This will give the middle of each bar on the x-axis.\n",
    "  text_x = bar.get_x() + bar.get_width() / 2\n",
    "  # get_y() is where the bar starts so we add the height to it.\n",
    "  text_y = bar.get_y() + bar_value\n",
    "  # If we want the text to be the same color as the bar, we can\n",
    "  # get the color like so:\n",
    "  bar_color = bar.get_facecolor()\n",
    "  # If you want a consistent color, you can just set it as a constant, e.g. #222222\n",
    "  ax.text(text_x, text_y, text, ha='center', va='bottom', color=bar_color,\n",
    "          size=12)\n"
   ]
  },
  {
   "cell_type": "markdown",
   "metadata": {},
   "source": [
    "###### Look at Product by Policy Value -  observations:\n",
    "\n",
    "1. Even Policy value for Retirement is higher than any other product.\n",
    "2. Annuity, Bond, ISA and Pension which have very less Policy Value\n"
   ]
  },
  {
   "cell_type": "code",
   "execution_count": 526,
   "metadata": {},
   "outputs": [
    {
     "data": {
      "text/html": [
       "<div>\n",
       "<style scoped>\n",
       "    .dataframe tbody tr th:only-of-type {\n",
       "        vertical-align: middle;\n",
       "    }\n",
       "\n",
       "    .dataframe tbody tr th {\n",
       "        vertical-align: top;\n",
       "    }\n",
       "\n",
       "    .dataframe thead th {\n",
       "        text-align: right;\n",
       "    }\n",
       "</style>\n",
       "<table border=\"1\" class=\"dataframe\">\n",
       "  <thead>\n",
       "    <tr style=\"text-align: right;\">\n",
       "      <th></th>\n",
       "      <th>Age</th>\n",
       "      <th>Policy_Value</th>\n",
       "    </tr>\n",
       "  </thead>\n",
       "  <tbody>\n",
       "    <tr>\n",
       "      <td>0</td>\n",
       "      <td>90</td>\n",
       "      <td>744154.0</td>\n",
       "    </tr>\n",
       "    <tr>\n",
       "      <td>2</td>\n",
       "      <td>90</td>\n",
       "      <td>192389.0</td>\n",
       "    </tr>\n",
       "    <tr>\n",
       "      <td>3</td>\n",
       "      <td>90</td>\n",
       "      <td>904394.0</td>\n",
       "    </tr>\n",
       "    <tr>\n",
       "      <td>5</td>\n",
       "      <td>90</td>\n",
       "      <td>805735.0</td>\n",
       "    </tr>\n",
       "    <tr>\n",
       "      <td>6</td>\n",
       "      <td>90</td>\n",
       "      <td>605286.0</td>\n",
       "    </tr>\n",
       "    <tr>\n",
       "      <td>...</td>\n",
       "      <td>...</td>\n",
       "      <td>...</td>\n",
       "    </tr>\n",
       "    <tr>\n",
       "      <td>1630</td>\n",
       "      <td>22</td>\n",
       "      <td>7176.0</td>\n",
       "    </tr>\n",
       "    <tr>\n",
       "      <td>1631</td>\n",
       "      <td>22</td>\n",
       "      <td>533501.0</td>\n",
       "    </tr>\n",
       "    <tr>\n",
       "      <td>1632</td>\n",
       "      <td>22</td>\n",
       "      <td>280107.0</td>\n",
       "    </tr>\n",
       "    <tr>\n",
       "      <td>1633</td>\n",
       "      <td>20</td>\n",
       "      <td>6740.0</td>\n",
       "    </tr>\n",
       "    <tr>\n",
       "      <td>1634</td>\n",
       "      <td>20</td>\n",
       "      <td>667547.0</td>\n",
       "    </tr>\n",
       "  </tbody>\n",
       "</table>\n",
       "<p>1513 rows × 2 columns</p>\n",
       "</div>"
      ],
      "text/plain": [
       "      Age  Policy_Value\n",
       "0      90      744154.0\n",
       "2      90      192389.0\n",
       "3      90      904394.0\n",
       "5      90      805735.0\n",
       "6      90      605286.0\n",
       "...   ...           ...\n",
       "1630   22        7176.0\n",
       "1631   22      533501.0\n",
       "1632   22      280107.0\n",
       "1633   20        6740.0\n",
       "1634   20      667547.0\n",
       "\n",
       "[1513 rows x 2 columns]"
      ]
     },
     "execution_count": 526,
     "metadata": {},
     "output_type": "execute_result"
    }
   ],
   "source": [
    "df= pd.read_sql('SELECT C.Age, P.[Policy Value] as Policy_Value FROM Customer_Table C INNER JOIN Policy_Table P on P.[Customer ID]=C.[Customer ID] ', conn)\n",
    "\n",
    "df[\"Policy_Value\"].replace(np.nan, 0, inplace=True)\n",
    "\n",
    "df = df[df['Policy_Value']>0]\n",
    "\n",
    "df"
   ]
  },
  {
   "cell_type": "code",
   "execution_count": 556,
   "metadata": {},
   "outputs": [
    {
     "name": "stdout",
     "output_type": "stream",
     "text": [
      "Total Row :  1513\n"
     ]
    },
    {
     "data": {
      "image/png": "[encoded data removed]",
      "text/plain": [
       "<Figure size 720x504 with 1 Axes>"
      ]
     },
     "metadata": {
      "needs_background": "light"
     },
     "output_type": "display_data"
    }
   ],
   "source": [
    "dfa= pd.read_sql('SELECT C.Age, P.[Policy Value] as Policy_Value FROM Customer_Table C INNER JOIN Policy_Table P on P.[Customer ID]=C.[Customer ID] ', conn)\n",
    "\n",
    "dfa[\"Policy_Value\"].replace(np.nan, 0, inplace=True)\n",
    "\n",
    "dfa = dfa[dfa['Policy_Value']>0]\n",
    "\n",
    "dfa\n",
    "\n",
    "print('Total Row : ', len(dfa))\n",
    "\n",
    "## Feature Scaling\n",
    "sc_dfa = StandardScaler()\n",
    "dfa_std = sc_dfa.fit_transform(dfa.astype(float))\n",
    "\n",
    "## Clustering with KMeans\n",
    "kmeans = KMeans(n_clusters=3, random_state=42).fit(dfa_std)\n",
    "labels = kmeans.labels_\n",
    "\n",
    "new_dfa = pd.DataFrame(data = dfa_std, columns = ['Age','Policy_Value'])\n",
    "new_dfa['label_kmeans'] = labels\n",
    "fig, ax = plt.subplots(figsize=(10,7))\n",
    "\n",
    "plt.scatter(new_dfa[\"Policy_Value\"][new_dfa[\"label_kmeans\"] == 0], new_dfa[\"Age\"][new_dfa[\"label_kmeans\"] == 0], \n",
    "            color = \"blue\", s=100, edgecolor='green',linestyle='--')\n",
    "plt.scatter(new_dfa[\"Policy_Value\"][new_dfa[\"label_kmeans\"] == 1], new_dfa[\"Age\"][new_dfa[\"label_kmeans\"] == 1], \n",
    "            color = \"red\", s=100, edgecolor='green',linestyle='--')\n",
    "plt.scatter(new_dfa[\"Policy_Value\"][new_dfa[\"label_kmeans\"] == 2], new_dfa[\"Age\"][new_dfa[\"label_kmeans\"] == 2], \n",
    "            color = \"green\", s=100, edgecolor='green',linestyle='--')\n",
    "\n",
    "centers = kmeans.cluster_centers_\n",
    "plt.scatter(centers[:, 0], centers[:, 1], c='black', s=500);\n",
    "ax.set_xlabel('Policy_Value')\n",
    "ax.set_ylabel('Age')\n",
    "plt.show()"
   ]
  },
  {
   "cell_type": "code",
   "execution_count": 557,
   "metadata": {},
   "outputs": [
    {
     "data": {
      "text/html": [
       "<div>\n",
       "<style scoped>\n",
       "    .dataframe tbody tr th:only-of-type {\n",
       "        vertical-align: middle;\n",
       "    }\n",
       "\n",
       "    .dataframe tbody tr th {\n",
       "        vertical-align: top;\n",
       "    }\n",
       "\n",
       "    .dataframe thead th {\n",
       "        text-align: right;\n",
       "    }\n",
       "</style>\n",
       "<table border=\"1\" class=\"dataframe\">\n",
       "  <thead>\n",
       "    <tr style=\"text-align: right;\">\n",
       "      <th></th>\n",
       "      <th>Age</th>\n",
       "      <th>Policy_Value</th>\n",
       "      <th>label_kmeans</th>\n",
       "    </tr>\n",
       "  </thead>\n",
       "  <tbody>\n",
       "    <tr>\n",
       "      <td>0</td>\n",
       "      <td>1.947941</td>\n",
       "      <td>1.217732</td>\n",
       "      <td>1</td>\n",
       "    </tr>\n",
       "    <tr>\n",
       "      <td>1</td>\n",
       "      <td>1.947941</td>\n",
       "      <td>-0.425299</td>\n",
       "      <td>2</td>\n",
       "    </tr>\n",
       "    <tr>\n",
       "      <td>2</td>\n",
       "      <td>1.947941</td>\n",
       "      <td>1.694890</td>\n",
       "      <td>1</td>\n",
       "    </tr>\n",
       "    <tr>\n",
       "      <td>3</td>\n",
       "      <td>1.947941</td>\n",
       "      <td>1.401106</td>\n",
       "      <td>1</td>\n",
       "    </tr>\n",
       "    <tr>\n",
       "      <td>4</td>\n",
       "      <td>1.947941</td>\n",
       "      <td>0.804214</td>\n",
       "      <td>1</td>\n",
       "    </tr>\n",
       "    <tr>\n",
       "      <td>...</td>\n",
       "      <td>...</td>\n",
       "      <td>...</td>\n",
       "      <td>...</td>\n",
       "    </tr>\n",
       "    <tr>\n",
       "      <td>1508</td>\n",
       "      <td>-2.987341</td>\n",
       "      <td>-0.976821</td>\n",
       "      <td>0</td>\n",
       "    </tr>\n",
       "    <tr>\n",
       "      <td>1509</td>\n",
       "      <td>-2.987341</td>\n",
       "      <td>0.590455</td>\n",
       "      <td>0</td>\n",
       "    </tr>\n",
       "    <tr>\n",
       "      <td>1510</td>\n",
       "      <td>-2.987341</td>\n",
       "      <td>-0.164095</td>\n",
       "      <td>0</td>\n",
       "    </tr>\n",
       "    <tr>\n",
       "      <td>1511</td>\n",
       "      <td>-3.132497</td>\n",
       "      <td>-0.978119</td>\n",
       "      <td>0</td>\n",
       "    </tr>\n",
       "    <tr>\n",
       "      <td>1512</td>\n",
       "      <td>-3.132497</td>\n",
       "      <td>0.989614</td>\n",
       "      <td>0</td>\n",
       "    </tr>\n",
       "  </tbody>\n",
       "</table>\n",
       "<p>1513 rows × 3 columns</p>\n",
       "</div>"
      ],
      "text/plain": [
       "           Age  Policy_Value  label_kmeans\n",
       "0     1.947941      1.217732             1\n",
       "1     1.947941     -0.425299             2\n",
       "2     1.947941      1.694890             1\n",
       "3     1.947941      1.401106             1\n",
       "4     1.947941      0.804214             1\n",
       "...        ...           ...           ...\n",
       "1508 -2.987341     -0.976821             0\n",
       "1509 -2.987341      0.590455             0\n",
       "1510 -2.987341     -0.164095             0\n",
       "1511 -3.132497     -0.978119             0\n",
       "1512 -3.132497      0.989614             0\n",
       "\n",
       "[1513 rows x 3 columns]"
      ]
     },
     "execution_count": 557,
     "metadata": {},
     "output_type": "execute_result"
    }
   ],
   "source": [
    "new_dfa"
   ]
  },
  {
   "cell_type": "markdown",
   "metadata": {},
   "source": [
    "###### Customer Segmentation\n",
    "\n",
    "Customer segemetation done in three categories based on Age and Policy value.\n"
   ]
  },
  {
   "cell_type": "markdown",
   "metadata": {},
   "source": [
    "###### Few important analysis needs to be done\n",
    "\n",
    "1. Customer who have more than one policy.\n",
    "2. Customer who have two or more policy.\n",
    "3. Customer who have two or more different policy.\n"
   ]
  },
  {
   "cell_type": "code",
   "execution_count": null,
   "metadata": {},
   "outputs": [],
   "source": []
  }
 ],
 "metadata": {
  "celltoolbar": "Raw Cell Format",
  "kernelspec": {
   "display_name": "Python 3",
   "language": "python",
   "name": "python3"
  },
  "language_info": {
   "codemirror_mode": {
    "name": "ipython",
    "version": 3
   },
   "file_extension": ".py",
   "mimetype": "text/x-python",
   "name": "python",
   "nbconvert_exporter": "python",
   "pygments_lexer": "ipython3",
   "version": "3.7.4"
  },
  "toc": {
   "colors": {
    "hover_highlight": "#DAA520",
    "running_highlight": "#FF0000",
    "selected_highlight": "#FFD700"
   },
   "moveMenuLeft": true,
   "nav_menu": {},
   "navigate_menu": true,
   "number_sections": true,
   "sideBar": true,
   "skip_h1_title": false,
   "threshold": 4,
   "toc_cell": false,
   "toc_position": {
    "height": "977px",
    "left": "0px",
    "right": "1457.01px",
    "top": "107px",
    "width": "214px"
   },
   "toc_section_display": "block",
   "toc_window_display": true
  }
 },
 "nbformat": 4,
 "nbformat_minor": 1
}
