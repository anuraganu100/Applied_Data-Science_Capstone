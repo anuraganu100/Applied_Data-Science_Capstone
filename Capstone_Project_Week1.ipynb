{
 "cells": [
  {
   "cell_type": "code",
   "execution_count": 3,
   "metadata": {},
   "outputs": [],
   "source": [
    "# =============================================================================\n",
    "# #                   Capstone - Peer graded assignment - Week 1\n",
    "# =============================================================================\n",
    " \n",
    "# =============================================================================\n",
    "# # 1. Write some markdown to explain that this notebook will be mainly used for the capstone project.\n",
    "# =============================================================================\n",
    "\n",
    "# =============================================================================\n",
    "#                   Applied Data Science Capstone\n",
    "# =============================================================================\n",
    "# =============================================================================\n",
    "# \n",
    "# This notebook is used for Applied Data Science Capstone - Project\n",
    "# \n",
    "# =============================================================================\n",
    "\n",
    "# =============================================================================\n",
    "# 2. Add Library \n",
    "# # Import the pandas library as pd.\n",
    "# # Import the Numpy library as np.\n",
    "# =============================================================================\n",
    "\n",
    "import pandas as pd\n",
    "import numpy as np"
   ]
  },
  {
   "cell_type": "code",
   "execution_count": 4,
   "metadata": {},
   "outputs": [
    {
     "name": "stdout",
     "output_type": "stream",
     "text": [
      "Hello Capstone Project Course!\n"
     ]
    }
   ],
   "source": [
    "# =============================================================================\n",
    "## 1. Print the following the statement: Hello Capstone Project Course!\n",
    "# =============================================================================\n",
    "\n",
    "print('Hello Capstone Project Course!')"
   ]
  },
  {
   "cell_type": "code",
   "execution_count": null,
   "metadata": {},
   "outputs": [],
   "source": []
  }
 ],
 "metadata": {
  "kernelspec": {
   "display_name": "Python 3",
   "language": "python",
   "name": "python3"
  },
  "language_info": {
   "codemirror_mode": {
    "name": "ipython",
    "version": 3
   },
   "file_extension": ".py",
   "mimetype": "text/x-python",
   "name": "python",
   "nbconvert_exporter": "python",
   "pygments_lexer": "ipython3",
   "version": "3.7.4"
  }
 },
 "nbformat": 4,
 "nbformat_minor": 2
}
